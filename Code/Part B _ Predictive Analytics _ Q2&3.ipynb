{
 "cells": [
  {
   "cell_type": "markdown",
   "metadata": {},
   "source": [
    "## Additional questions for Machine Learning Engineer (MLE) candidates\n",
    "1. Predict the expected load (requests/second) in the next minute <br>\n",
    "2. Predict the session length for a given IP<br>\n",
    "3. Predict the number of unique URL visits by a given IP<br>"
   ]
  },
  {
   "cell_type": "markdown",
   "metadata": {},
   "source": [
    "## Import Libraries"
   ]
  },
  {
   "cell_type": "code",
   "execution_count": 1,
   "metadata": {
    "collapsed": true
   },
   "outputs": [],
   "source": [
    "from pyspark.sql import SparkSession\n",
    "from pyspark.sql import Row\n",
    "from pyspark.sql.types import *\n",
    "from pyspark.sql.functions import *\n",
    "from pyspark.sql.functions import col, countDistinct\n",
    "\n",
    "from pyspark.sql.functions import max,min"
   ]
  },
  {
   "cell_type": "code",
   "execution_count": 2,
   "metadata": {
    "collapsed": true
   },
   "outputs": [],
   "source": [
    "# SparkSession\n",
    "spark = SparkSession.builder \\\n",
    "    .master(\"local\") \\\n",
    "    .appName(\"Predictive Analytics\") \\\n",
    "    .config(\"spark.executor.memory\", \"1gb\") \\\n",
    "    .getOrCreate()\n",
    "sc = spark.sparkContext"
   ]
  },
  {
   "cell_type": "markdown",
   "metadata": {},
   "source": [
    "## Load Data"
   ]
  },
  {
   "cell_type": "code",
   "execution_count": 3,
   "metadata": {
    "collapsed": true
   },
   "outputs": [],
   "source": [
    "# read log file\n",
    "rdd = sc.textFile('/Users/NK/Projects/pytm/2015_07_22_mktplace_shop_web_log_sample.log')\n",
    "# split by \" \"\n",
    "rdd = rdd.map(lambda line: line.split(\" \"))"
   ]
  },
  {
   "cell_type": "code",
   "execution_count": 4,
   "metadata": {
    "collapsed": false
   },
   "outputs": [
    {
     "name": "stdout",
     "output_type": "stream",
     "text": [
      "+---------------+--------------------+--------------------+\n",
      "|      ipaddress|                link|           timestamp|\n",
      "+---------------+--------------------+--------------------+\n",
      "|123.242.248.130|https://paytm.com...|2015-07-22T09:00:...|\n",
      "|  203.91.211.44|https://paytm.com...|2015-07-22T09:00:...|\n",
      "|    1.39.32.179|https://paytm.com...|2015-07-22T09:00:...|\n",
      "| 180.179.213.94|https://paytm.com...|2015-07-22T09:00:...|\n",
      "| 120.59.192.208|https://paytm.com...|2015-07-22T09:00:...|\n",
      "+---------------+--------------------+--------------------+\n",
      "only showing top 5 rows\n",
      "\n"
     ]
    }
   ],
   "source": [
    "# Keep timestamp, ip and link \n",
    "# convert the RDD to DF \n",
    "df = rdd.map(lambda line: Row(timestamp=line[0], ipaddress=line[2].split(':')[0], link=line[12])).toDF()\n",
    "df.show(5)"
   ]
  },
  {
   "cell_type": "code",
   "execution_count": 38,
   "metadata": {
    "collapsed": false
   },
   "outputs": [
    {
     "name": "stdout",
     "output_type": "stream",
     "text": [
      "+---------------+--------------------+--------------------+\n",
      "|      ipaddress|                link|           timestamp|\n",
      "+---------------+--------------------+--------------------+\n",
      "| 106.51.235.133|https://paytm.com...|2015-07-21 22:40:...|\n",
      "| 115.250.16.146|https://paytm.com...|2015-07-21 22:40:...|\n",
      "| 106.51.235.133|https://paytm.com...|2015-07-21 22:40:...|\n",
      "|   52.74.219.71|https://paytm.com...|2015-07-21 22:40:...|\n",
      "|  27.97.124.172|https://paytm.com...|2015-07-21 22:40:...|\n",
      "| 106.78.125.179|https://paytm.com...|2015-07-21 22:40:...|\n",
      "|   112.79.36.98|https://paytm.com...|2015-07-21 22:40:...|\n",
      "|  119.81.61.166|https://paytm.com...|2015-07-21 22:40:...|\n",
      "|117.197.179.139|https://paytm.com...|2015-07-21 22:40:...|\n",
      "|    1.39.14.113|https://paytm.com...|2015-07-21 22:40:...|\n",
      "+---------------+--------------------+--------------------+\n",
      "only showing top 10 rows\n",
      "\n"
     ]
    }
   ],
   "source": [
    "df = df.withColumn('timestamp', df['timestamp'].cast(TimestampType()))\n",
    "sorted_df = df.orderBy('timestamp', ascending=True)\n",
    "sorted_df.show(10)"
   ]
  },
  {
   "cell_type": "markdown",
   "metadata": {},
   "source": [
    "## 2. Predict the session length for a given IP"
   ]
  },
  {
   "cell_type": "code",
   "execution_count": 39,
   "metadata": {
    "collapsed": false
   },
   "outputs": [
    {
     "name": "stdout",
     "output_type": "stream",
     "text": [
      "+---------------+-----+\n",
      "|      ipaddress|count|\n",
      "+---------------+-----+\n",
      "|117.202.104.218|    9|\n",
      "|    61.3.119.16|    2|\n",
      "|  106.220.18.37|    2|\n",
      "|180.188.247.224|    1|\n",
      "|  124.124.34.97|    4|\n",
      "+---------------+-----+\n",
      "only showing top 5 rows\n",
      "\n"
     ]
    }
   ],
   "source": [
    "# sessionizing data based on 30 min fixed window time\n",
    "sorted_df_grpby = sorted_df.groupBy('ipaddress').count()\n",
    "sorted_df_grpby.show(5)"
   ]
  },
  {
   "cell_type": "code",
   "execution_count": 40,
   "metadata": {
    "collapsed": false
   },
   "outputs": [
    {
     "name": "stdout",
     "output_type": "stream",
     "text": [
      "+------------+--------------------+--------------------+-----+\n",
      "|   ipaddress|                link|           timestamp|count|\n",
      "+------------+--------------------+--------------------+-----+\n",
      "|1.186.143.37|https://paytm.com...|2015-07-22 12:14:...|    2|\n",
      "|1.186.143.37|https://paytm.com...|2015-07-22 12:14:...|    2|\n",
      "|1.187.164.29|https://paytm.com...|2015-07-21 22:43:...|    9|\n",
      "|1.187.164.29|https://paytm.com...|2015-07-21 22:43:...|    9|\n",
      "|1.187.164.29|https://paytm.com...|2015-07-21 22:43:...|    9|\n",
      "+------------+--------------------+--------------------+-----+\n",
      "only showing top 5 rows\n",
      "\n"
     ]
    }
   ],
   "source": [
    "df_session = sorted_df.join(sorted_df_grpby,['ipaddress'])\n",
    "df_session.show(5)"
   ]
  },
  {
   "cell_type": "code",
   "execution_count": 41,
   "metadata": {
    "collapsed": false
   },
   "outputs": [
    {
     "name": "stdout",
     "output_type": "stream",
     "text": [
      "+------------+--------------------+--------------------+-----+----------+\n",
      "|   ipaddress|                link|           timestamp|count|session_id|\n",
      "+------------+--------------------+--------------------+-----+----------+\n",
      "|1.186.143.37|https://paytm.com...|2015-07-22 12:14:...|    2|         0|\n",
      "|1.186.143.37|https://paytm.com...|2015-07-22 12:14:...|    2|         1|\n",
      "|1.187.164.29|https://paytm.com...|2015-07-21 22:43:...|    9|         2|\n",
      "|1.187.164.29|https://paytm.com...|2015-07-21 22:43:...|    9|         3|\n",
      "|1.187.164.29|https://paytm.com...|2015-07-21 22:43:...|    9|         4|\n",
      "+------------+--------------------+--------------------+-----+----------+\n",
      "only showing top 5 rows\n",
      "\n"
     ]
    }
   ],
   "source": [
    "indexed_df_session = df_session.withColumn(\"session_id\", monotonically_increasing_id())\n",
    "indexed_df_session.show(5)"
   ]
  },
  {
   "cell_type": "code",
   "execution_count": 49,
   "metadata": {
    "collapsed": false
   },
   "outputs": [
    {
     "name": "stdout",
     "output_type": "stream",
     "text": [
      "+------------+--------------------+\n",
      "|   ipaddress|           first_hit|\n",
      "+------------+--------------------+\n",
      "|1.186.143.37|2015-07-22 12:14:...|\n",
      "|1.187.164.29|2015-07-21 22:43:...|\n",
      "|  1.22.41.76|2015-07-22 12:42:...|\n",
      "| 1.23.208.26|2015-07-22 13:41:...|\n",
      "| 1.23.36.184|2015-07-22 01:14:...|\n",
      "+------------+--------------------+\n",
      "only showing top 5 rows\n",
      "\n"
     ]
    }
   ],
   "source": [
    "first_hit = indexed_df_session.groupBy(\"ipaddress\").agg(min(\"timestamp\").alias('first_hit'))\n",
    "first_hit.show(5)"
   ]
  },
  {
   "cell_type": "code",
   "execution_count": 50,
   "metadata": {
    "collapsed": false
   },
   "outputs": [
    {
     "name": "stdout",
     "output_type": "stream",
     "text": [
      "+------------+--------------------+--------------------+--------------------+-----+----------+\n",
      "|   ipaddress|           first_hit|                link|           timestamp|count|session_id|\n",
      "+------------+--------------------+--------------------+--------------------+-----+----------+\n",
      "|1.186.143.37|2015-07-22 12:14:...|https://paytm.com...|2015-07-22 12:14:...|    2|         0|\n",
      "|1.186.143.37|2015-07-22 12:14:...|https://paytm.com...|2015-07-22 12:14:...|    2|         1|\n",
      "|1.187.164.29|2015-07-21 22:43:...|https://paytm.com...|2015-07-21 22:43:...|    9|         2|\n",
      "|1.187.164.29|2015-07-21 22:43:...|https://paytm.com...|2015-07-21 22:43:...|    9|         3|\n",
      "|1.187.164.29|2015-07-21 22:43:...|https://paytm.com...|2015-07-21 22:43:...|    9|         4|\n",
      "+------------+--------------------+--------------------+--------------------+-----+----------+\n",
      "only showing top 5 rows\n",
      "\n"
     ]
    }
   ],
   "source": [
    "df_sessions_timestamp = first_hit.join(indexed_df_session,['ipaddress'])\n",
    "df_sessions_timestamp.show(5)"
   ]
  },
  {
   "cell_type": "code",
   "execution_count": 51,
   "metadata": {
    "collapsed": false
   },
   "outputs": [
    {
     "name": "stdout",
     "output_type": "stream",
     "text": [
      "+------------+--------------------+--------------------+--------------------+-----+----------+---------+\n",
      "|   ipaddress|           first_hit|                link|           timestamp|count|session_id|time_diff|\n",
      "+------------+--------------------+--------------------+--------------------+-----+----------+---------+\n",
      "|1.186.143.37|2015-07-22 12:14:...|https://paytm.com...|2015-07-22 12:14:...|    2|         0|        0|\n",
      "|1.186.143.37|2015-07-22 12:14:...|https://paytm.com...|2015-07-22 12:14:...|    2|         1|        8|\n",
      "|1.187.164.29|2015-07-21 22:43:...|https://paytm.com...|2015-07-21 22:43:...|    9|         2|        0|\n",
      "|1.187.164.29|2015-07-21 22:43:...|https://paytm.com...|2015-07-21 22:43:...|    9|         3|       11|\n",
      "|1.187.164.29|2015-07-21 22:43:...|https://paytm.com...|2015-07-21 22:43:...|    9|         4|       16|\n",
      "+------------+--------------------+--------------------+--------------------+-----+----------+---------+\n",
      "only showing top 5 rows\n",
      "\n"
     ]
    }
   ],
   "source": [
    "time_diff = (unix_timestamp(df_sessions_timestamp.timestamp)-unix_timestamp(df_sessions_timestamp.first_hit))\n",
    "df_sessions_timestamp = df_sessions_timestamp.withColumn(\"time_diff\", time_diff)\n",
    "df_sessions_timestamp.show(5)"
   ]
  },
  {
   "cell_type": "code",
   "execution_count": 52,
   "metadata": {
    "collapsed": false
   },
   "outputs": [
    {
     "name": "stdout",
     "output_type": "stream",
     "text": [
      "+------------+-----------+\n",
      "|   ipaddress|session_len|\n",
      "+------------+-----------+\n",
      "|1.186.143.37|          8|\n",
      "|1.187.164.29|         69|\n",
      "|  1.22.41.76|         62|\n",
      "| 1.23.208.26|       1146|\n",
      "| 1.23.36.184|         15|\n",
      "+------------+-----------+\n",
      "only showing top 5 rows\n",
      "\n"
     ]
    }
   ],
   "source": [
    "bla = df_sessions_timestamp.groupBy('ipaddress').agg(max('time_diff').alias('session_len'))\n",
    "bla.show(5)"
   ]
  },
  {
   "cell_type": "code",
   "execution_count": 53,
   "metadata": {
    "collapsed": false
   },
   "outputs": [
    {
     "name": "stdout",
     "output_type": "stream",
     "text": [
      "+------------+--------------------+--------------------+--------------------+-----+----------+---------+-----------+\n",
      "|   ipaddress|           first_hit|                link|           timestamp|count|session_id|time_diff|session_len|\n",
      "+------------+--------------------+--------------------+--------------------+-----+----------+---------+-----------+\n",
      "|1.186.143.37|2015-07-22 12:14:...|https://paytm.com...|2015-07-22 12:14:...|    2|         0|        0|          8|\n",
      "|1.186.143.37|2015-07-22 12:14:...|https://paytm.com...|2015-07-22 12:14:...|    2|         1|        8|          8|\n",
      "|1.187.164.29|2015-07-21 22:43:...|https://paytm.com...|2015-07-21 22:43:...|    9|         2|        0|         69|\n",
      "|1.187.164.29|2015-07-21 22:43:...|https://paytm.com...|2015-07-21 22:43:...|    9|         3|       11|         69|\n",
      "|1.187.164.29|2015-07-21 22:43:...|https://paytm.com...|2015-07-21 22:43:...|    9|         4|       16|         69|\n",
      "+------------+--------------------+--------------------+--------------------+-----+----------+---------+-----------+\n",
      "only showing top 5 rows\n",
      "\n"
     ]
    }
   ],
   "source": [
    "df_sessions_timestamp = df_sessions_timestamp.join(bla,['ipaddress'])\n",
    "df_sessions_timestamp.show(5)"
   ]
  },
  {
   "cell_type": "markdown",
   "metadata": {},
   "source": [
    "## Feature Engineering"
   ]
  },
  {
   "cell_type": "code",
   "execution_count": 58,
   "metadata": {
    "collapsed": true
   },
   "outputs": [],
   "source": [
    "Feature_min = df_sessions_timestamp.groupBy('ipaddress').agg(min('time_diff').alias('min_session_len'))\n",
    "Feature_max = df_sessions_timestamp.groupBy('ipaddress').agg(max('time_diff').alias('max_session_len'))\n",
    "Feature_mean = df_sessions_timestamp.groupBy('ipaddress').agg(mean('time_diff').alias('mean_session_len'))\n",
    "Feature_stddev = df_sessions_timestamp.groupBy('ipaddress').agg(stddev('time_diff').alias('std_session_len'))"
   ]
  },
  {
   "cell_type": "code",
   "execution_count": 60,
   "metadata": {
    "collapsed": false
   },
   "outputs": [
    {
     "name": "stdout",
     "output_type": "stream",
     "text": [
      "+------------+---------------+---------------+------------------+------------------+\n",
      "|ipaddress   |min_session_len|max_session_len|std_session_len   |mean_session_len  |\n",
      "+------------+---------------+---------------+------------------+------------------+\n",
      "|1.186.143.37|0              |8              |5.656854249492381 |4.0               |\n",
      "|1.187.164.29|0              |69             |23.377933565175898|38.55555555555556 |\n",
      "|1.22.41.76  |0              |62             |24.57495821824671 |38.25             |\n",
      "|1.23.208.26 |0              |1146           |466.24314114704856|194.33333333333334|\n",
      "|1.23.36.184 |0              |15             |6.3508529610858835|6.5               |\n",
      "|1.38.19.8   |0              |60             |42.42640687119285 |30.0              |\n",
      "|1.38.20.34  |0              |192            |63.38906143210907 |89.94285714285714 |\n",
      "|1.39.13.13  |0              |5              |3.5355339059327378|2.5               |\n",
      "|1.39.32.249 |0              |20564          |10579.375414771264|6860.166666666667 |\n",
      "|1.39.32.59  |0              |0              |NaN               |0.0               |\n",
      "|1.39.33.153 |0              |41             |14.162324264449976|23.5              |\n",
      "|1.39.33.33  |0              |7              |4.949747468305833 |3.5               |\n",
      "|1.39.33.77  |0              |4715           |2429.5280817475646|3137.5            |\n",
      "|1.39.34.4   |0              |0              |NaN               |0.0               |\n",
      "|1.39.40.43  |0              |170            |74.84383742166084 |82.0              |\n",
      "|1.39.60.37  |0              |1103           |470.87114501111824|425.8979591836735 |\n",
      "|1.39.61.53  |0              |16             |3.5018791947662677|12.473684210526315|\n",
      "|1.39.62.227 |0              |17             |8.020806277010644 |11.5              |\n",
      "|1.39.63.197 |0              |85             |60.10407640085654 |42.5              |\n",
      "|1.39.63.5   |0              |31401          |16148.666538345098|20850.166666666668|\n",
      "+------------+---------------+---------------+------------------+------------------+\n",
      "only showing top 20 rows\n",
      "\n"
     ]
    }
   ],
   "source": [
    "Features = Feature_min.join(Feature_max,[\"ipaddress\"])\n",
    "Features = Features.join(Feature_stddev,[\"ipaddress\"])\n",
    "Features = Features.join(Feature_mean,[\"ipaddress\"])\n",
    "Features.show(20,False)"
   ]
  },
  {
   "cell_type": "code",
   "execution_count": null,
   "metadata": {
    "collapsed": false
   },
   "outputs": [],
   "source": [
    "# y_count = [val.count for val in df2.select('count').collect()]\n",
    "# x_timestamp = [val.time_range for val in df2.select('time_range').collect()]\n",
    "# plt.plot(x_timestamp, y_count)"
   ]
  },
  {
   "cell_type": "code",
   "execution_count": 62,
   "metadata": {
    "collapsed": false
   },
   "outputs": [
    {
     "data": {
      "text/html": [
       "<div>\n",
       "<style scoped>\n",
       "    .dataframe tbody tr th:only-of-type {\n",
       "        vertical-align: middle;\n",
       "    }\n",
       "\n",
       "    .dataframe tbody tr th {\n",
       "        vertical-align: top;\n",
       "    }\n",
       "\n",
       "    .dataframe thead th {\n",
       "        text-align: right;\n",
       "    }\n",
       "</style>\n",
       "<table border=\"1\" class=\"dataframe\">\n",
       "  <thead>\n",
       "    <tr style=\"text-align: right;\">\n",
       "      <th></th>\n",
       "      <th>0</th>\n",
       "      <th>1</th>\n",
       "      <th>2</th>\n",
       "      <th>3</th>\n",
       "      <th>4</th>\n",
       "    </tr>\n",
       "  </thead>\n",
       "  <tbody>\n",
       "    <tr>\n",
       "      <th>summary</th>\n",
       "      <td>count</td>\n",
       "      <td>mean</td>\n",
       "      <td>stddev</td>\n",
       "      <td>min</td>\n",
       "      <td>max</td>\n",
       "    </tr>\n",
       "    <tr>\n",
       "      <th>ipaddress</th>\n",
       "      <td>90544</td>\n",
       "      <td>None</td>\n",
       "      <td>None</td>\n",
       "      <td>1.186.101.79</td>\n",
       "      <td>99.8.170.3</td>\n",
       "    </tr>\n",
       "    <tr>\n",
       "      <th>min_session_len</th>\n",
       "      <td>90544</td>\n",
       "      <td>0.0</td>\n",
       "      <td>0.0</td>\n",
       "      <td>0</td>\n",
       "      <td>0</td>\n",
       "    </tr>\n",
       "    <tr>\n",
       "      <th>max_session_len</th>\n",
       "      <td>90544</td>\n",
       "      <td>2663.60503180774</td>\n",
       "      <td>8632.87620561486</td>\n",
       "      <td>0</td>\n",
       "      <td>66621</td>\n",
       "    </tr>\n",
       "    <tr>\n",
       "      <th>std_session_len</th>\n",
       "      <td>90544</td>\n",
       "      <td>NaN</td>\n",
       "      <td>NaN</td>\n",
       "      <td>0.0</td>\n",
       "      <td>NaN</td>\n",
       "    </tr>\n",
       "    <tr>\n",
       "      <th>target</th>\n",
       "      <td>90544</td>\n",
       "      <td>1379.1280325427504</td>\n",
       "      <td>4951.318122659066</td>\n",
       "      <td>0.0</td>\n",
       "      <td>56282.265625</td>\n",
       "    </tr>\n",
       "  </tbody>\n",
       "</table>\n",
       "</div>"
      ],
      "text/plain": [
       "                     0                   1                  2             3  \\\n",
       "summary          count                mean             stddev           min   \n",
       "ipaddress        90544                None               None  1.186.101.79   \n",
       "min_session_len  90544                 0.0                0.0             0   \n",
       "max_session_len  90544    2663.60503180774   8632.87620561486             0   \n",
       "std_session_len  90544                 NaN                NaN           0.0   \n",
       "target           90544  1379.1280325427504  4951.318122659066           0.0   \n",
       "\n",
       "                            4  \n",
       "summary                   max  \n",
       "ipaddress          99.8.170.3  \n",
       "min_session_len             0  \n",
       "max_session_len         66621  \n",
       "std_session_len           NaN  \n",
       "target           56282.265625  "
      ]
     },
     "execution_count": 62,
     "metadata": {},
     "output_type": "execute_result"
    }
   ],
   "source": [
    "Features_target = Features.withColumnRenamed('mean_session_len','target')\n",
    "Features_target.describe().toPandas().transpose()"
   ]
  },
  {
   "cell_type": "code",
   "execution_count": 64,
   "metadata": {
    "collapsed": false
   },
   "outputs": [
    {
     "data": {
      "text/html": [
       "<div>\n",
       "<style scoped>\n",
       "    .dataframe tbody tr th:only-of-type {\n",
       "        vertical-align: middle;\n",
       "    }\n",
       "\n",
       "    .dataframe tbody tr th {\n",
       "        vertical-align: top;\n",
       "    }\n",
       "\n",
       "    .dataframe thead th {\n",
       "        text-align: right;\n",
       "    }\n",
       "</style>\n",
       "<table border=\"1\" class=\"dataframe\">\n",
       "  <thead>\n",
       "    <tr style=\"text-align: right;\">\n",
       "      <th></th>\n",
       "      <th>0</th>\n",
       "      <th>1</th>\n",
       "      <th>2</th>\n",
       "      <th>3</th>\n",
       "      <th>4</th>\n",
       "    </tr>\n",
       "  </thead>\n",
       "  <tbody>\n",
       "    <tr>\n",
       "      <th>summary</th>\n",
       "      <td>count</td>\n",
       "      <td>mean</td>\n",
       "      <td>stddev</td>\n",
       "      <td>min</td>\n",
       "      <td>max</td>\n",
       "    </tr>\n",
       "    <tr>\n",
       "      <th>min_session_len</th>\n",
       "      <td>73813</td>\n",
       "      <td>0.0</td>\n",
       "      <td>0.0</td>\n",
       "      <td>0</td>\n",
       "      <td>0</td>\n",
       "    </tr>\n",
       "    <tr>\n",
       "      <th>max_session_len</th>\n",
       "      <td>73813</td>\n",
       "      <td>3267.3574302629618</td>\n",
       "      <td>9457.632774981359</td>\n",
       "      <td>0</td>\n",
       "      <td>66621</td>\n",
       "    </tr>\n",
       "    <tr>\n",
       "      <th>std_session_len</th>\n",
       "      <td>73813</td>\n",
       "      <td>1272.0292839273989</td>\n",
       "      <td>3740.1483604364134</td>\n",
       "      <td>0.0</td>\n",
       "      <td>46880.472485886916</td>\n",
       "    </tr>\n",
       "    <tr>\n",
       "      <th>target</th>\n",
       "      <td>73813</td>\n",
       "      <td>1691.7313830700662</td>\n",
       "      <td>5435.40746838811</td>\n",
       "      <td>0.0</td>\n",
       "      <td>56282.265625</td>\n",
       "    </tr>\n",
       "  </tbody>\n",
       "</table>\n",
       "</div>"
      ],
      "text/plain": [
       "                     0                   1                   2    3  \\\n",
       "summary          count                mean              stddev  min   \n",
       "min_session_len  73813                 0.0                 0.0    0   \n",
       "max_session_len  73813  3267.3574302629618   9457.632774981359    0   \n",
       "std_session_len  73813  1272.0292839273989  3740.1483604364134  0.0   \n",
       "target           73813  1691.7313830700662    5435.40746838811  0.0   \n",
       "\n",
       "                                  4  \n",
       "summary                         max  \n",
       "min_session_len                   0  \n",
       "max_session_len               66621  \n",
       "std_session_len  46880.472485886916  \n",
       "target                 56282.265625  "
      ]
     },
     "execution_count": 64,
     "metadata": {},
     "output_type": "execute_result"
    }
   ],
   "source": [
    "\n",
    "Features_target_s = Features_target_s.na.drop()\n",
    "Features_target_s.describe().toPandas().transpose()"
   ]
  },
  {
   "cell_type": "code",
   "execution_count": 65,
   "metadata": {
    "collapsed": false
   },
   "outputs": [
    {
     "name": "stdout",
     "output_type": "stream",
     "text": [
      "+--------------------+-----------------+\n",
      "|            features|           target|\n",
      "+--------------------+-----------------+\n",
      "|[8.0,5.6568542494...|              4.0|\n",
      "|[69.0,23.37793356...|38.55555555555556|\n",
      "|[62.0,24.57495821...|            38.25|\n",
      "+--------------------+-----------------+\n",
      "only showing top 3 rows\n",
      "\n"
     ]
    }
   ],
   "source": [
    "Features_target_s = Features_target_s.drop('ipaddress')\n",
    "from pyspark.ml.feature import VectorAssembler\n",
    "vectorAssembler = VectorAssembler(inputCols = ['max_session_len', 'std_session_len'], outputCol = 'features')\n",
    "vfeatures_df = vectorAssembler.transform(Features_target_s)\n",
    "vfeatures_df = vfeatures_df.select(['features', 'target'])\n",
    "vfeatures_df.show(3)"
   ]
  },
  {
   "cell_type": "code",
   "execution_count": 66,
   "metadata": {
    "collapsed": true
   },
   "outputs": [],
   "source": [
    "# Spliting data to train and test\n",
    "splits = vfeatures_df.randomSplit([0.7, 0.3])\n",
    "train_df = splits[0]\n",
    "test_df = splits[1]"
   ]
  },
  {
   "cell_type": "markdown",
   "metadata": {},
   "source": [
    "## Linear Regression"
   ]
  },
  {
   "cell_type": "code",
   "execution_count": 68,
   "metadata": {
    "collapsed": false
   },
   "outputs": [
    {
     "name": "stdout",
     "output_type": "stream",
     "text": [
      "Coefficients: [0.5530189309079979,-0.09326190958689103]\n",
      "Intercept: -3.25331278625\n"
     ]
    }
   ],
   "source": [
    "from pyspark.ml.regression import LinearRegression\n",
    "lr = LinearRegression(featuresCol = 'features', labelCol='target', maxIter=10, regParam=0.3)\n",
    "lr_model = lr.fit(train_df)\n",
    "# Print the coefficients and intercept for linear regression model\n",
    "print(\"Coefficients: \" + str(lr_model.coefficients))\n",
    "print(\"Intercept: \" + str(lr_model.intercept))"
   ]
  },
  {
   "cell_type": "code",
   "execution_count": 69,
   "metadata": {
    "collapsed": false
   },
   "outputs": [
    {
     "name": "stdout",
     "output_type": "stream",
     "text": [
      "RMSE: 2301.123132\n",
      "r2: 0.819973\n"
     ]
    }
   ],
   "source": [
    "# Summarize the model over the training set and print out some metrics\n",
    "trainingSummary = lr_model.summary\n",
    "print(\"RMSE: %f\" % trainingSummary.rootMeanSquaredError)\n",
    "print(\"r2: %f\" % trainingSummary.r2)"
   ]
  },
  {
   "cell_type": "code",
   "execution_count": 71,
   "metadata": {
    "collapsed": false
   },
   "outputs": [],
   "source": [
    "# # Predictions\n",
    "# lr_predictions = lr_model.transform(test_df)\n",
    "# lr_predictions.select(\"prediction\",\"target\",\"features\").show(5)\n",
    "\n",
    "# from pyspark.ml.evaluation import RegressionEvaluator\n",
    "# lr_evaluator = RegressionEvaluator(predictionCol=\"prediction\", \\\n",
    "#                  labelCol=\"target\",metricName=\"r2\")\n",
    "# print(\"R Squared (R2) on test data = %g\" % lr_evaluator.evaluate(lr_predictions))"
   ]
  },
  {
   "cell_type": "code",
   "execution_count": null,
   "metadata": {
    "collapsed": true
   },
   "outputs": [],
   "source": []
  }
 ],
 "metadata": {
  "kernelspec": {
   "display_name": "Python 2",
   "language": "python",
   "name": "python2"
  },
  "language_info": {
   "codemirror_mode": {
    "name": "ipython",
    "version": 2
   },
   "file_extension": ".py",
   "mimetype": "text/x-python",
   "name": "python",
   "nbconvert_exporter": "python",
   "pygments_lexer": "ipython2",
   "version": "2.7.6"
  }
 },
 "nbformat": 4,
 "nbformat_minor": 2
}
