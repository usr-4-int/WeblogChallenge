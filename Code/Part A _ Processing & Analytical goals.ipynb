{
 "cells": [
  {
   "cell_type": "markdown",
   "metadata": {},
   "source": [
    "## Processing & Analytical goals:\n",
    "1.Sessionize the web log by IP. Sessionize = aggregrate all page hits by visitor/IP during a session. https://en.wikipedia.org/wiki/Session_(web_analytics) <br>\n",
    "2.Determine the average session time<br>\n",
    "3.Determine unique URL visits per session. To clarify, count a hit to a unique URL only once per session.<br>\n",
    "4.Find the most engaged users, ie the IPs with the longest session times"
   ]
  },
  {
   "cell_type": "code",
   "execution_count": 1,
   "metadata": {
    "collapsed": false
   },
   "outputs": [
    {
     "data": {
      "text/plain": [
       "'/Users/NK/Projects/pytm'"
      ]
     },
     "execution_count": 1,
     "metadata": {},
     "output_type": "execute_result"
    }
   ],
   "source": [
    "import os\n",
    "os.getcwd()"
   ]
  },
  {
   "cell_type": "markdown",
   "metadata": {},
   "source": [
    "## Import Libraries"
   ]
  },
  {
   "cell_type": "code",
   "execution_count": 2,
   "metadata": {
    "collapsed": true
   },
   "outputs": [],
   "source": [
    "from pyspark.sql import SparkSession\n",
    "from pyspark.sql import Row\n",
    "from pyspark.sql.types import *\n",
    "from pyspark.sql.functions import *\n",
    "from pyspark.sql.functions import col, countDistinct"
   ]
  },
  {
   "cell_type": "code",
   "execution_count": 6,
   "metadata": {
    "collapsed": true
   },
   "outputs": [],
   "source": [
    "# SparkSession\n",
    "spark = SparkSession.builder \\\n",
    "    .master(\"local\") \\\n",
    "    .appName(\"Processing & Analytical goals\") \\\n",
    "    .config(\"spark.executor.pyspark.memory\", \"1gb\") \\\n",
    "    .getOrCreate()\n",
    "sc = spark.sparkContext"
   ]
  },
  {
   "cell_type": "markdown",
   "metadata": {},
   "source": [
    "## Load Data"
   ]
  },
  {
   "cell_type": "code",
   "execution_count": 7,
   "metadata": {
    "collapsed": false
   },
   "outputs": [],
   "source": [
    "# read log file\n",
    "rdd = sc.textFile('/Users/NK/Projects/pytm/2015_07_22_mktplace_shop_web_log_sample.log')\n",
    "# split by \" \"\n",
    "rdd = rdd.map(lambda line: line.split(\" \"))"
   ]
  },
  {
   "cell_type": "markdown",
   "metadata": {},
   "source": [
    " source : https://docs.aws.amazon.com/elasticloadbalancing/latest/classic/access-log-collection.html#access-log-entry-format <br>\n",
    "columns = [\"timestamp\", \"elb\", \"client:port\", \"backend:port\", \"request_pt\", \"backend_pt\", \"responce_pt\",\n",
    " \"elb_status_code\",\"backend_status_code\",\"received_bytes\", \"sent_bytes\", \"request\", \"user_agent\",\n",
    "\"ssl_cipher\",\"ssl_protocol\"]"
   ]
  },
  {
   "cell_type": "code",
   "execution_count": 8,
   "metadata": {
    "collapsed": false
   },
   "outputs": [
    {
     "name": "stdout",
     "output_type": "stream",
     "text": [
      "+---------------+--------------------+--------------------+\n",
      "|      ipaddress|                link|           timestamp|\n",
      "+---------------+--------------------+--------------------+\n",
      "|123.242.248.130|https://paytm.com...|2015-07-22T09:00:...|\n",
      "|  203.91.211.44|https://paytm.com...|2015-07-22T09:00:...|\n",
      "|    1.39.32.179|https://paytm.com...|2015-07-22T09:00:...|\n",
      "| 180.179.213.94|https://paytm.com...|2015-07-22T09:00:...|\n",
      "| 120.59.192.208|https://paytm.com...|2015-07-22T09:00:...|\n",
      "+---------------+--------------------+--------------------+\n",
      "only showing top 5 rows\n",
      "\n"
     ]
    }
   ],
   "source": [
    "# Keep timestamp, ip and link \n",
    "# convert the RDD to DF \n",
    "df = rdd.map(lambda line: Row(timestamp=line[0], ipaddress=line[2].split(':')[0], link=line[12])).toDF()\n",
    "df.show(5)"
   ]
  },
  {
   "cell_type": "markdown",
   "metadata": {},
   "source": [
    "## Inspect data"
   ]
  },
  {
   "cell_type": "code",
   "execution_count": 6,
   "metadata": {
    "collapsed": false
   },
   "outputs": [
    {
     "name": "stdout",
     "output_type": "stream",
     "text": [
      "[('ipaddress', 'string'), ('link', 'string'), ('timestamp', 'string')]\n"
     ]
    }
   ],
   "source": [
    "print(df.dtypes)"
   ]
  },
  {
   "cell_type": "code",
   "execution_count": 7,
   "metadata": {
    "collapsed": false
   },
   "outputs": [
    {
     "name": "stdout",
     "output_type": "stream",
     "text": [
      "(1158500, 3)\n"
     ]
    }
   ],
   "source": [
    "print((df.count(), len(df.columns)))"
   ]
  },
  {
   "cell_type": "code",
   "execution_count": 8,
   "metadata": {
    "collapsed": false
   },
   "outputs": [
    {
     "name": "stdout",
     "output_type": "stream",
     "text": [
      "+-----+\n",
      "|count|\n",
      "+-----+\n",
      "|90544|\n",
      "+-----+\n",
      "\n"
     ]
    }
   ],
   "source": [
    "# Number of distinct ipaddresses\n",
    "df.agg(countDistinct(col(\"ipaddress\")).alias(\"count\")).show()"
   ]
  },
  {
   "cell_type": "markdown",
   "metadata": {
    "collapsed": false
   },
   "source": [
    "## 1. Sessionize the web log by IP \n",
    "    # time range = 15 min \n",
    "    # convert to datetime type\n",
    "    # create 15 min time range\n",
    "    # groupby time_range and ip\n",
    "    # assign an Id to each session"
   ]
  },
  {
   "cell_type": "code",
   "execution_count": 9,
   "metadata": {
    "collapsed": false
   },
   "outputs": [
    {
     "name": "stdout",
     "output_type": "stream",
     "text": [
      "+------------------------------------------+--------------------------+---------------+---------------------------------------------------------------------------------------------------+\n",
      "|time_range                                |timestamp                 |ipaddress      |link                                                                                               |\n",
      "+------------------------------------------+--------------------------+---------------+---------------------------------------------------------------------------------------------------+\n",
      "|[2015-07-22 05:00:00, 2015-07-22 05:15:00]|2015-07-22 05:00:28.019143|123.242.248.130|https://paytm.com:443/shop/authresponse?code=f2405b05-e2ee-4b0d-8f6a-9fed0fcfe2e0&state=null       |\n",
      "|[2015-07-22 05:00:00, 2015-07-22 05:15:00]|2015-07-22 05:00:27.89458 |203.91.211.44  |https://paytm.com:443/shop/wallet/txnhistory?page_size=10&page_number=0&channel=web&version=2      |\n",
      "|[2015-07-22 05:00:00, 2015-07-22 05:15:00]|2015-07-22 05:00:27.885745|1.39.32.179    |https://paytm.com:443/shop/wallet/txnhistory?page_size=10&page_number=0&channel=web&version=2      |\n",
      "|[2015-07-22 05:00:00, 2015-07-22 05:15:00]|2015-07-22 05:00:28.048369|180.179.213.94 |https://paytm.com:443/shop/p/micromax-yu-yureka-moonstone-grey-MOBMICROMAX-YU-DUMM141CD60AF7C_34315|\n",
      "|[2015-07-22 05:00:00, 2015-07-22 05:15:00]|2015-07-22 05:00:28.036251|120.59.192.208 |https://paytm.com:443/papi/v1/expresscart/verify                                                   |\n",
      "+------------------------------------------+--------------------------+---------------+---------------------------------------------------------------------------------------------------+\n",
      "only showing top 5 rows\n",
      "\n"
     ]
    }
   ],
   "source": [
    "df = df.withColumn('timestamp', df['timestamp'].cast(TimestampType()))\n",
    "df_range = df.select(window(\"timestamp\", \"15 minutes\").alias('time_range'),'timestamp',\"ipaddress\",\"link\")\n",
    "df_range.show(5, False)"
   ]
  },
  {
   "cell_type": "code",
   "execution_count": 10,
   "metadata": {
    "collapsed": false
   },
   "outputs": [
    {
     "name": "stdout",
     "output_type": "stream",
     "text": [
      "+------------------------------------------+--------------+-----+----------+\n",
      "|time_range                                |ipaddress     |count|session_Id|\n",
      "+------------------------------------------+--------------+-----+----------+\n",
      "|[2015-07-22 05:00:00, 2015-07-22 05:15:00]|1.38.17.231   |14   |0         |\n",
      "|[2015-07-22 05:00:00, 2015-07-22 05:15:00]|161.51.16.10  |1    |1         |\n",
      "|[2015-07-22 05:00:00, 2015-07-22 05:15:00]|117.213.93.103|3    |2         |\n",
      "|[2015-07-22 05:00:00, 2015-07-22 05:15:00]|165.225.104.65|35   |3         |\n",
      "|[2015-07-22 05:00:00, 2015-07-22 05:15:00]|1.39.46.218   |7    |4         |\n",
      "+------------------------------------------+--------------+-----+----------+\n",
      "only showing top 5 rows\n",
      "\n"
     ]
    }
   ],
   "source": [
    "df_range_grpby = df_range.groupBy('time_range','ipaddress').count()\n",
    "df_session= df_range_grpby.withColumn(\"session_Id\", monotonically_increasing_id())\n",
    "df_session.show(5,False)"
   ]
  },
  {
   "cell_type": "code",
   "execution_count": 11,
   "metadata": {
    "collapsed": false
   },
   "outputs": [
    {
     "name": "stdout",
     "output_type": "stream",
     "text": [
      "+--------------------+---------------+--------------------+--------------------+-----+----------+\n",
      "|          time_range|      ipaddress|           timestamp|                link|count|session_Id|\n",
      "+--------------------+---------------+--------------------+--------------------+-----+----------+\n",
      "|[2015-07-21 22:30...|  106.51.141.73|2015-07-21 22:44:...|https://paytm.com...|    1|       217|\n",
      "|[2015-07-21 22:30...|107.167.109.115|2015-07-21 22:43:...|http://www.paytm....|    1|       211|\n",
      "|[2015-07-21 22:30...|113.193.203.163|2015-07-21 22:41:...|https://paytm.com...|    1|       205|\n",
      "|[2015-07-21 22:30...|  115.184.19.68|2015-07-21 22:43:...|https://paytm.com...|    1|       209|\n",
      "|[2015-07-21 22:30...|  115.250.103.3|2015-07-21 22:44:...|https://paytm.com...|    3|       215|\n",
      "|[2015-07-21 22:30...|  115.250.103.3|2015-07-21 22:44:...|https://paytm.com...|    3|       215|\n",
      "|[2015-07-21 22:30...|  115.250.103.3|2015-07-21 22:44:...|https://paytm.com...|    3|       215|\n",
      "|[2015-07-21 22:30...|116.203.129.121|2015-07-21 22:43:...|https://paytm.com...|    5|       212|\n",
      "|[2015-07-21 22:30...|116.203.129.121|2015-07-21 22:43:...|https://paytm.com...|    5|       212|\n",
      "|[2015-07-21 22:30...|116.203.129.121|2015-07-21 22:43:...|https://www.paytm...|    5|       212|\n",
      "|[2015-07-21 22:30...|116.203.129.121|2015-07-21 22:43:...|https://paytm.com...|    5|       212|\n",
      "|[2015-07-21 22:30...|116.203.129.121|2015-07-21 22:43:...|https://paytm.com...|    5|       212|\n",
      "|[2015-07-21 22:30...|  117.198.45.19|2015-07-21 22:44:...|https://paytm.com...|    3|       213|\n",
      "|[2015-07-21 22:30...|  117.198.45.19|2015-07-21 22:44:...|https://paytm.com...|    3|       213|\n",
      "|[2015-07-21 22:30...|  117.198.45.19|2015-07-21 22:44:...|https://paytm.com...|    3|       213|\n",
      "|[2015-07-21 22:30...|117.199.132.124|2015-07-21 22:43:...|https://paytm.com...|    1|       210|\n",
      "|[2015-07-21 22:30...|117.253.213.104|2015-07-21 22:43:...|https://paytm.com...|    2|       208|\n",
      "|[2015-07-21 22:30...|117.253.213.104|2015-07-21 22:44:...|https://paytm.com...|    2|       208|\n",
      "|[2015-07-21 22:30...|  120.60.191.85|2015-07-21 22:41:...|http://paytm.com:...|    5|       204|\n",
      "|[2015-07-21 22:30...|  120.60.191.85|2015-07-21 22:41:...|https://paytm.com...|    5|       204|\n",
      "+--------------------+---------------+--------------------+--------------------+-----+----------+\n",
      "only showing top 20 rows\n",
      "\n"
     ]
    }
   ],
   "source": [
    "df_sessions_timestamp = df_range.join(df_session,['time_range','ipaddress'])\n",
    "df_sessions_timestamp.show(20)"
   ]
  },
  {
   "cell_type": "markdown",
   "metadata": {
    "collapsed": true
   },
   "source": [
    "## 2. Determine average session time\n",
    "    # calculate first hit occurance\n",
    "    # join with session dataframe\n",
    "    # session_time = last hit - first fit\n",
    "    # session_time = 0 if count = 1"
   ]
  },
  {
   "cell_type": "code",
   "execution_count": 12,
   "metadata": {
    "collapsed": false
   },
   "outputs": [
    {
     "name": "stdout",
     "output_type": "stream",
     "text": [
      "+----------+--------------------------+\n",
      "|session_id|first_hit                 |\n",
      "+----------+--------------------------+\n",
      "|26        |2015-07-22 05:02:20.711268|\n",
      "|29        |2015-07-22 05:02:32.186441|\n",
      "|474       |2015-07-22 06:35:33.695588|\n",
      "|8589934658|2015-07-22 05:04:23.673392|\n",
      "|8589934965|2015-07-22 14:01:55.30041 |\n",
      "+----------+--------------------------+\n",
      "only showing top 5 rows\n",
      "\n"
     ]
    }
   ],
   "source": [
    "first_hit = df_sessions_timestamp.groupBy(\"session_id\").agg(min(\"timestamp\").alias('first_hit'))\n",
    "first_hit.show(5, False)"
   ]
  },
  {
   "cell_type": "code",
   "execution_count": 13,
   "metadata": {
    "collapsed": true
   },
   "outputs": [],
   "source": [
    "df_sessions_timestamp = first_hit.join(df_sessions_timestamp,['session_id'])"
   ]
  },
  {
   "cell_type": "code",
   "execution_count": 14,
   "metadata": {
    "collapsed": false
   },
   "outputs": [
    {
     "data": {
      "text/plain": [
       "[('session_id', 'bigint'),\n",
       " ('first_hit', 'timestamp'),\n",
       " ('time_range', 'struct<start:timestamp,end:timestamp>'),\n",
       " ('ipaddress', 'string'),\n",
       " ('timestamp', 'timestamp'),\n",
       " ('link', 'string'),\n",
       " ('count', 'bigint')]"
      ]
     },
     "execution_count": 14,
     "metadata": {},
     "output_type": "execute_result"
    }
   ],
   "source": [
    "df_sessions_timestamp.dtypes"
   ]
  },
  {
   "cell_type": "code",
   "execution_count": 15,
   "metadata": {
    "collapsed": false
   },
   "outputs": [
    {
     "data": {
      "text/plain": [
       "[('session_id', 'bigint'),\n",
       " ('first_hit', 'timestamp'),\n",
       " ('time_range', 'struct<start:timestamp,end:timestamp>'),\n",
       " ('ipaddress', 'string'),\n",
       " ('timestamp', 'timestamp'),\n",
       " ('link', 'string'),\n",
       " ('count', 'bigint'),\n",
       " ('time_diff', 'bigint')]"
      ]
     },
     "execution_count": 15,
     "metadata": {},
     "output_type": "execute_result"
    }
   ],
   "source": [
    "time_diff = (unix_timestamp(df_sessions_timestamp.timestamp)-unix_timestamp(df_sessions_timestamp.first_hit))\n",
    "df_sessions_timestamp = df_sessions_timestamp.withColumn(\"time_diff\", time_diff)\n",
    "df_sessions_timestamp.dtypes"
   ]
  },
  {
   "cell_type": "code",
   "execution_count": 16,
   "metadata": {
    "collapsed": false
   },
   "outputs": [
    {
     "name": "stdout",
     "output_type": "stream",
     "text": [
      "+----------+----------------+\n",
      "|session_id|session_duration|\n",
      "+----------+----------------+\n",
      "|        26|              13|\n",
      "|        29|              33|\n",
      "|       474|             226|\n",
      "|8589934658|               0|\n",
      "|8589934965|              10|\n",
      "+----------+----------------+\n",
      "only showing top 5 rows\n",
      "\n"
     ]
    }
   ],
   "source": [
    "session_duration = df_sessions_timestamp.groupBy('session_id').agg(max(\"time_diff\").alias(\"session_duration\"))\n",
    "session_duration.show(5)"
   ]
  },
  {
   "cell_type": "code",
   "execution_count": 19,
   "metadata": {
    "collapsed": false
   },
   "outputs": [
    {
     "name": "stdout",
     "output_type": "stream",
     "text": [
      "+----------+----------------+--------------------+--------------------+------------+--------------------+--------------------+-----+---------+\n",
      "|session_id|session_duration|           first_hit|          time_range|   ipaddress|           timestamp|                link|count|time_diff|\n",
      "+----------+----------------+--------------------+--------------------+------------+--------------------+--------------------+-----+---------+\n",
      "|        26|              13|2015-07-22 05:02:...|[2015-07-22 05:00...|218.248.82.9|2015-07-22 05:02:...|https://paytm.com...|    4|        0|\n",
      "|        26|              13|2015-07-22 05:02:...|[2015-07-22 05:00...|218.248.82.9|2015-07-22 05:02:...|http://www.paytm....|    4|        3|\n",
      "|        26|              13|2015-07-22 05:02:...|[2015-07-22 05:00...|218.248.82.9|2015-07-22 05:02:...|http://www.paytm....|    4|        8|\n",
      "|        26|              13|2015-07-22 05:02:...|[2015-07-22 05:00...|218.248.82.9|2015-07-22 05:02:...|https://paytm.com...|    4|       13|\n",
      "|        29|              33|2015-07-22 05:02:...|[2015-07-22 05:00...|27.62.30.188|2015-07-22 05:02:...|https://paytm.com...|    4|        0|\n",
      "+----------+----------------+--------------------+--------------------+------------+--------------------+--------------------+-----+---------+\n",
      "only showing top 5 rows\n",
      "\n"
     ]
    }
   ],
   "source": [
    "df_sessions_timestamp = session_duration.join(df_sessions_timestamp,['session_id'])\n",
    "df_sessions_timestamp.show(5)"
   ]
  },
  {
   "cell_type": "code",
   "execution_count": 21,
   "metadata": {
    "collapsed": false
   },
   "outputs": [
    {
     "name": "stdout",
     "output_type": "stream",
     "text": [
      "+---------------------+\n",
      "|avg(session_duration)|\n",
      "+---------------------+\n",
      "|   141.58578161415625|\n",
      "+---------------------+\n",
      "\n"
     ]
    }
   ],
   "source": [
    "average_session_time = df_sessions_timestamp.groupBy().avg('session_duration')\n",
    "average_session_time.show(5)"
   ]
  },
  {
   "cell_type": "markdown",
   "metadata": {
    "collapsed": true
   },
   "source": [
    "## 3. Determine unique URL visits per session. To clarify, count a hit to a unique URL only once per session."
   ]
  },
  {
   "cell_type": "code",
   "execution_count": 23,
   "metadata": {
    "collapsed": false
   },
   "outputs": [
    {
     "name": "stdout",
     "output_type": "stream",
     "text": [
      "+----------+--------------------+-----+\n",
      "|session_id|                link|count|\n",
      "+----------+--------------------+-----+\n",
      "|        26|https://paytm.com...|    2|\n",
      "|        26|http://www.paytm....|    2|\n",
      "|        29|https://paytm.com...|    1|\n",
      "|        29|https://paytm.com...|    1|\n",
      "|        29|https://paytm.com...|    1|\n",
      "|        29|https://paytm.com...|    1|\n",
      "|       474|https://paytm.com...|    2|\n",
      "|       474|https://paytm.com...|    2|\n",
      "|       474|https://paytm.com...|    2|\n",
      "|       474|https://paytm.com...|    5|\n",
      "|       474|https://paytm.com...|    3|\n",
      "|       474|https://paytm.com...|    2|\n",
      "|       474|https://paytm.com...|    1|\n",
      "|       474|https://paytm.com...|    1|\n",
      "|       474|https://paytm.com...|    1|\n",
      "|       474|https://paytm.com...|    1|\n",
      "|8589934658|https://paytm.com...|    1|\n",
      "|8589934965|https://paytm.com...|    1|\n",
      "|8589934965|https://paytm.com...|    1|\n",
      "|8589935171|https://paytm.com...|    1|\n",
      "+----------+--------------------+-----+\n",
      "only showing top 20 rows\n",
      "\n"
     ]
    }
   ],
   "source": [
    "URL_per_session = df_sessions_timestamp.groupBy(\"session_id\",\"link\").count().distinct()\n",
    "URL_per_session.show(20)"
   ]
  },
  {
   "cell_type": "markdown",
   "metadata": {},
   "source": [
    "## 4. Find the most engaged users, ie the IPs with the longest session times"
   ]
  },
  {
   "cell_type": "code",
   "execution_count": 26,
   "metadata": {
    "collapsed": false
   },
   "outputs": [
    {
     "name": "stdout",
     "output_type": "stream",
     "text": [
      "+------------+----------------+--------------------+--------------------+--------------+--------------------+--------------------+-----+---------+\n",
      "|  session_id|session_duration|           first_hit|          time_range|     ipaddress|           timestamp|                link|count|time_diff|\n",
      "+------------+----------------+--------------------+--------------------+--------------+--------------------+--------------------+-----+---------+\n",
      "|249108103236|             847|2015-07-22 06:30:...|[2015-07-22 06:30...|164.100.96.254|2015-07-22 06:44:...|https://paytm.com...|   95|      847|\n",
      "|249108103236|             847|2015-07-22 06:30:...|[2015-07-22 06:30...|164.100.96.254|2015-07-22 06:30:...|https://paytm.com...|   95|        0|\n",
      "|249108103236|             847|2015-07-22 06:30:...|[2015-07-22 06:30...|164.100.96.254|2015-07-22 06:30:...|https://paytm.com...|   95|        1|\n",
      "|249108103236|             847|2015-07-22 06:30:...|[2015-07-22 06:30...|164.100.96.254|2015-07-22 06:31:...|https://paytm.com...|   95|       32|\n",
      "|249108103236|             847|2015-07-22 06:30:...|[2015-07-22 06:30...|164.100.96.254|2015-07-22 06:31:...|https://paytm.com...|   95|       32|\n",
      "+------------+----------------+--------------------+--------------------+--------------+--------------------+--------------------+-----+---------+\n",
      "only showing top 5 rows\n",
      "\n"
     ]
    }
   ],
   "source": [
    "sort_user_as_duration = df_sessions_timestamp.sort(col(\"session_duration\").desc())\n",
    "engaged_users = sort_user_as_duration.distinct()\n",
    "engaged_users.show(5)"
   ]
  },
  {
   "cell_type": "code",
   "execution_count": 27,
   "metadata": {
    "collapsed": false
   },
   "outputs": [
    {
     "name": "stdout",
     "output_type": "stream",
     "text": [
      "+--------------+------------+----------------+\n",
      "|     ipaddress|  session_id|session_duration|\n",
      "+--------------+------------+----------------+\n",
      "|164.100.96.254|249108103236|             847|\n",
      "|164.100.96.254|249108103236|             847|\n",
      "|164.100.96.254|249108103236|             847|\n",
      "|164.100.96.254|249108103236|             847|\n",
      "|164.100.96.254|249108103236|             847|\n",
      "+--------------+------------+----------------+\n",
      "only showing top 5 rows\n",
      "\n"
     ]
    }
   ],
   "source": [
    "engaged_users = engaged_users.select(\"ipaddress\",\"session_id\",\"session_duration\")\n",
    "engaged_users.show(5)"
   ]
  },
  {
   "cell_type": "code",
   "execution_count": null,
   "metadata": {
    "collapsed": true
   },
   "outputs": [],
   "source": []
  }
 ],
 "metadata": {
  "kernelspec": {
   "display_name": "Python 2",
   "language": "python",
   "name": "python2"
  },
  "language_info": {
   "codemirror_mode": {
    "name": "ipython",
    "version": 2
   },
   "file_extension": ".py",
   "mimetype": "text/x-python",
   "name": "python",
   "nbconvert_exporter": "python",
   "pygments_lexer": "ipython2",
   "version": "2.7.6"
  }
 },
 "nbformat": 4,
 "nbformat_minor": 2
}
